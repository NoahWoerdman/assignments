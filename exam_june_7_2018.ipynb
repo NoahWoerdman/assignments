{
 "cells": [
  {
   "cell_type": "markdown",
   "metadata": {},
   "source": [
    "Before you turn this problem in, make sure everything runs as expected. First, **restart the kernel** (in the menubar, select Kernel$\\rightarrow$Restart) and then **run all cells** (in the menubar, select Cell$\\rightarrow$Run All).\n",
    "\n",
    "Make sure you fill in any place that says `YOUR CODE HERE` or \"YOUR ANSWER HERE\", as well as your name and collaborators below:"
   ]
  },
  {
   "cell_type": "code",
   "execution_count": 125,
   "metadata": {},
   "outputs": [],
   "source": [
    "NAME = \"Noah Woerdman 2009606 u906467\"\n",
    "COLLABORATORS = \"Floris van der Heijden 2009790 u245966\""
   ]
  },
  {
   "cell_type": "markdown",
   "metadata": {},
   "source": [
    "---"
   ]
  },
  {
   "cell_type": "markdown",
   "metadata": {},
   "source": [
    "Fill in the cell above to provide us with your name and student number, like\n",
    "\n",
    "NAME = \"Adam Smith, #student number#\"\n",
    "\n",
    "where you replace \"#student number#\" with your ... (very good!)\n",
    "\n",
    "and if you are doing this with someone else (not more than one other person):\n",
    "\n",
    "COLLABORATORS = \"Karl Marx, #student number#\""
   ]
  },
  {
   "cell_type": "markdown",
   "metadata": {
    "deletable": false,
    "editable": false,
    "nbgrader": {
     "checksum": "a7ae5c69becf064d614c6c38935eca51",
     "grade": false,
     "grade_id": "cell-895e9a7b94992ec9",
     "locked": true,
     "schema_version": 1,
     "solution": false
    }
   },
   "source": [
    "# exam June 7th, 2018\n"
   ]
  },
  {
   "cell_type": "markdown",
   "metadata": {
    "deletable": false,
    "editable": false,
    "nbgrader": {
     "checksum": "bc48d165f54aa364aa34509649fcdef5",
     "grade": false,
     "grade_id": "cell-540987818af25557",
     "locked": true,
     "schema_version": 1,
     "solution": false
    }
   },
   "source": [
    "\n",
    "In the first cell of the notebook, give us your name and student number in the way indicated above. If you do this notebook with --at max.-- one other student, give her/his name and student number as well under \"COLLABORATORS\".\n",
    "\n",
    "Fill in the notebook (see below for code cells and text cells that you need to fill in).\n",
    "\n",
    "If you look at the menus above (File, Edit, View etc.), there is one called \"Cell\". If you click on this, you can change the \"Cell Type\". Choose \"Code\" when you are typing python or R code. Choose \"Markdown\" when you are typing, well, markdown.\n",
    "\n",
    "When you finish the notebook, make sure that you **save it with the output of your code included**. \n",
    "\n",
    "Then put it on github, e.g. by dragging it onto github (see instructions below). \n",
    "\n",
    "Finally, add a link to your README file with the name of this exam: \"Exam June 7, 2018\".\n",
    "\n"
   ]
  },
  {
   "cell_type": "markdown",
   "metadata": {
    "deletable": false,
    "editable": false,
    "nbgrader": {
     "checksum": "6fad9bed312da1b0097e9c520b18e3fb",
     "grade": false,
     "grade_id": "cell-e1cf88cb799f1f43",
     "locked": true,
     "schema_version": 1,
     "solution": false
    }
   },
   "source": [
    "## price effects of mergers\n",
    "\n",
    "We consider a merger in this notebook. \n",
    "\n",
    "First we calculate the equilibrium with three firms, denoted by 1, 2 and 3. Then firms 2 and 3 merge so that we are left with 2 firms; denoted by 1 and 2.\n",
    "\n",
    "We calculate the effects of the merger on the equilibrium price.\n",
    "\n",
    "We start by importing the usual libraries."
   ]
  },
  {
   "cell_type": "code",
   "execution_count": 126,
   "metadata": {
    "deletable": false,
    "editable": false,
    "nbgrader": {
     "checksum": "7bd770ef54db47c3b6c8d0e31f6baef6",
     "grade": false,
     "grade_id": "cell-b895769bf40e183a",
     "locked": true,
     "schema_version": 1,
     "solution": false
    }
   },
   "outputs": [],
   "source": [
    "import matplotlib.pyplot as plt\n",
    "import pandas as pd\n",
    "import numpy as np\n",
    "from scipy import optimize\n",
    "%matplotlib inline"
   ]
  },
  {
   "cell_type": "markdown",
   "metadata": {},
   "source": [
    "The following code helps to calculate the equilibrium for the case with 3 firms. Note that you have seen similar code during the tutorials to calculate the equilibrium with 2 firms.\n",
    "\n",
    "We assume that before the merger each firm has constant marginal costs equal to 0.3. We assume a simple linear (inverse) demand curve of the form $p=1-Q$ where $p$ denotes price and $Q$ total output on the market. Total output equals the sum of each firm's output: $Q= q_1 + q_2+q_3$."
   ]
  },
  {
   "cell_type": "code",
   "execution_count": 127,
   "metadata": {
    "deletable": false,
    "editable": false,
    "nbgrader": {
     "checksum": "3e30f7ac9d9155ef089b8ca56a0c0436",
     "grade": false,
     "grade_id": "cell-f97a25efed556fd2",
     "locked": true,
     "schema_version": 1,
     "solution": false
    }
   },
   "outputs": [],
   "source": [
    "c0 = 0.3\n",
    "vector_c = [c0]*3\n",
    "\n",
    "def p(Q):\n",
    "    return 1 - Q\n",
    "\n",
    "def costs(q,c):\n",
    "    return c*q\n",
    "\n",
    "def profits(q,Q_other,c):\n",
    "    return p(q+Q_other)*q-costs(q,c)\n",
    "\n",
    "def reaction(Q_other,c):\n",
    "    q1 =  optimize.fminbound(lambda x: -profits(x,Q_other,c),0,1,full_output=1)\n",
    "    return q1[0]\n",
    "\n",
    "def fixed_point_three_firms(vector_q,vector_c):\n",
    "    return [vector_q[0]-reaction(vector_q[1]+vector_q[2],vector_c[0]),\n",
    "            vector_q[1]-reaction(vector_q[0]+vector_q[2],vector_c[1]),\n",
    "            vector_q[2]-reaction(vector_q[0]+vector_q[1],vector_c[2])]\n",
    "\n"
   ]
  },
  {
   "cell_type": "markdown",
   "metadata": {
    "deletable": false,
    "editable": false,
    "nbgrader": {
     "checksum": "f6ea3b2416aca7293a5450c45865f242",
     "grade": false,
     "grade_id": "cell-83284c4090d6de8c",
     "locked": true,
     "schema_version": 1,
     "solution": false
    }
   },
   "source": [
    "#### a) [0.5 points] Show that total equilibrium output equals  0.525. Derive the equilibrium price and Herfindahl index; denote these by `P0` and `H0` resp."
   ]
  },
  {
   "cell_type": "markdown",
   "metadata": {},
   "source": [
    "First we deciced on the starting point at an output of 0 for all three firms. Then we created a vector to calculate the output for which the firms did not react anymore. We used this output to calculate the price and Herfindahl index."
   ]
  },
  {
   "cell_type": "code",
   "execution_count": 128,
   "metadata": {
    "deletable": false,
    "nbgrader": {
     "checksum": "a06d73c35395adb00480733b458cb4a5",
     "grade": true,
     "grade_id": "cell-3b8ee172d9950128",
     "locked": false,
     "points": 0.5,
     "schema_version": 1,
     "solution": true
    }
   },
   "outputs": [
    {
     "name": "stdout",
     "output_type": "stream",
     "text": [
      "output vector equals: [0.175 0.175 0.175]\n",
      "equilibrium output equals(Q0): 0.525\n",
      "equilibrium price equals(P0): 0.475\n",
      "Herfindahl index equals(H0): 0.3333\n"
     ]
    }
   ],
   "source": [
    "starting_point =[0,0,0]\n",
    "output_vector_firms = optimize.fsolve(lambda q: fixed_point_three_firms(q,[0.3,0.3,0.3]), starting_point)\n",
    "print('output vector equals: ' + str(output_vector_firms))\n",
    "equilibrium_output = sum(output_vector_firms)\n",
    "print('equilibrium output equals(Q0): '+ str(equilibrium_output))\n",
    "\n",
    "print('equilibrium price equals(P0): ' + str(p(equilibrium_output)))\n",
    "\n",
    "market_share = output_vector_firms / equilibrium_output\n",
    "Herfindahl_index = sum(market_share**2)\n",
    "print('Herfindahl index equals(H0): '+ str(round(Herfindahl_index,4)))"
   ]
  },
  {
   "cell_type": "markdown",
   "metadata": {
    "deletable": false,
    "editable": false,
    "nbgrader": {
     "checksum": "87b3b3e0e2d645c280e279312e489dc4",
     "grade": false,
     "grade_id": "cell-4b33762aa4a601fe",
     "locked": true,
     "schema_version": 1,
     "solution": false
    }
   },
   "source": [
    "#### b) [0.5 point] Define a function `fixed_point_two_firms` with the same structure as the function `fixed_point_three_firms` above, except that it derives the equilibrium output levels for a duopoly (two firms). Test this function by showing that each of the two firms produces 0.3333 in case both firms have zero costs."
   ]
  },
  {
   "cell_type": "markdown",
   "metadata": {},
   "source": [
    "We copied the three firm model and changed it so that it would fit for two firms. Furthermore we changed the cost to 0, after which we calculated the output, which was indeed equal to 0.3333."
   ]
  },
  {
   "cell_type": "code",
   "execution_count": 129,
   "metadata": {
    "deletable": false,
    "nbgrader": {
     "checksum": "024a1519155d681b57c85292df535a65",
     "grade": true,
     "grade_id": "cell-5ee215676b91f504",
     "locked": false,
     "points": 0.5,
     "schema_version": 1,
     "solution": true
    }
   },
   "outputs": [
    {
     "name": "stdout",
     "output_type": "stream",
     "text": [
      "output vector equals: [0.33333333 0.33333333]\n"
     ]
    }
   ],
   "source": [
    "c0 = 0\n",
    "vector_c = [c0]*2\n",
    "\n",
    "def p(Q):\n",
    "    return 1 - Q\n",
    "\n",
    "def costs(q,c):\n",
    "    return c*q\n",
    "\n",
    "def profits(q,Q_other,c):\n",
    "    return p(q+Q_other)*q-costs(q,c)\n",
    "\n",
    "def reaction(Q_other,c):\n",
    "    q1 =  optimize.fminbound(lambda x: -profits(x,Q_other,c),0,1,full_output=1)\n",
    "    return q1[0]\n",
    "\n",
    "def fixed_point_two_firms(vector_q,vector_c):\n",
    "    return [vector_q[0]-reaction(vector_q[1],vector_c[0]),\n",
    "            vector_q[1]-reaction(vector_q[0],vector_c[1])]\n",
    "\n",
    "starting_point =[0,0]\n",
    "output_vector_firms = optimize.fsolve(lambda q: fixed_point_two_firms(q,[0,0]), starting_point)\n",
    "print('output vector equals: ' + str((output_vector_firms)))\n",
    "\n"
   ]
  },
  {
   "cell_type": "markdown",
   "metadata": {
    "deletable": false,
    "editable": false,
    "nbgrader": {
     "checksum": "5291fc8716e367572fde17ebe5844d2f",
     "grade": false,
     "grade_id": "cell-c2fada02efd7b197",
     "locked": true,
     "schema_version": 1,
     "solution": false
    }
   },
   "source": [
    "The Dutch competition authority, ACM, is asked to evaluate the effects of a merger between firms 2 and 3. Firms 2 and 3 claim that by merging they can reduce their constant marginal costs. But it is not clear by how much they will reduce their costs.\n",
    "\n",
    "The ACM assumes that the marginal cost level of the merged firm is uniformly distributed between 0 and the current marginal cost level `c0`. The merger will not affect the marginal cost level of firm 1 who does not merge. Firm 1's cost level remains `c0`.\n",
    "\n",
    "The next cell generates a vector of cost levels for the merged firm, denoted `c_after_merger`. Evaluate \"c_after_merger\" in a separate cell if you do not understand the command that defines it.\n",
    "\n",
    "Then it calculates the equilibrium output levels for (the non-merging) firm 1 and (the merged) firm 2.\n",
    "\n",
    "Note that you need to specify `initial_guess`.\n"
   ]
  },
  {
   "cell_type": "code",
   "execution_count": 130,
   "metadata": {
    "deletable": false,
    "editable": false,
    "nbgrader": {
     "checksum": "11299317cd53e31de9900700999b0324",
     "grade": false,
     "grade_id": "cell-ce91ab3e3225c57d",
     "locked": true,
     "schema_version": 1,
     "solution": false
    }
   },
   "outputs": [],
   "source": [
    "c_after_merger = np.random.uniform(0,c0,size = 100)\n",
    "\n",
    "q1_after_merger = [optimize.fsolve(lambda q: fixed_point_two_firms(q,[c0,c]), initial_guess)[0] for c in c_after_merger]\n",
    "q2_after_merger = [optimize.fsolve(lambda q: fixed_point_two_firms(q,[c0,c]), initial_guess)[1] for c in c_after_merger]\n",
    "\n",
    "\n"
   ]
  },
  {
   "cell_type": "markdown",
   "metadata": {
    "deletable": false,
    "editable": false,
    "nbgrader": {
     "checksum": "2b518306d6ff20ee42d0bc3085333095",
     "grade": false,
     "grade_id": "cell-0acc18b4f07a09f4",
     "locked": true,
     "schema_version": 1,
     "solution": false
    }
   },
   "source": [
    "#### c) [0.5 points] Create a dataframe called `df_after_merger` with three columns: `c_merged_firm`, `output_non_merging_firm`, `output_merged_firm` containing resp. the cost level of the merged firm, the output level of firm 1 and the output level of firm 2."
   ]
  },
  {
   "cell_type": "markdown",
   "metadata": {},
   "source": [
    "We copied the above given model and added an initial guess. We added the cost to be equal to 0.3. Then we created 100 different values for the cost between 0 and 0.3. We used this list of values to calculate the respective outputs. Finally we created an easy-to-read list with all these values."
   ]
  },
  {
   "cell_type": "code",
   "execution_count": 131,
   "metadata": {
    "deletable": false,
    "nbgrader": {
     "checksum": "f4fc6a3bdef91fa3f656ccd3290c9f54",
     "grade": true,
     "grade_id": "cell-f3eacda828774f2d",
     "locked": false,
     "points": 0.5,
     "schema_version": 1,
     "solution": true
    }
   },
   "outputs": [
    {
     "name": "stdout",
     "output_type": "stream",
     "text": [
      "    c_merged_firm  output_merged_firm  output_non_merging_firm\n",
      "0        0.198369            0.301087                 0.199456\n",
      "1        0.163897            0.324069                 0.187966\n",
      "2        0.112951            0.358033                 0.170984\n",
      "3        0.253610            0.264260                 0.217870\n",
      "4        0.135736            0.342843                 0.178579\n",
      "5        0.166305            0.322463                 0.188768\n",
      "6        0.277921            0.248053                 0.225974\n",
      "7        0.111092            0.359272                 0.170364\n",
      "8        0.287048            0.241968                 0.229016\n",
      "9        0.283876            0.244083                 0.227959\n",
      "10       0.164502            0.323666                 0.188167\n",
      "11       0.028528            0.414315                 0.142843\n",
      "12       0.211873            0.292085                 0.203958\n",
      "13       0.131856            0.345429                 0.177285\n",
      "14       0.065344            0.389770                 0.155115\n",
      "15       0.018404            0.421064                 0.139468\n",
      "16       0.009989            0.426674                 0.136663\n",
      "17       0.068301            0.387799                 0.156100\n",
      "18       0.095881            0.369412                 0.165294\n",
      "19       0.042529            0.404981                 0.147510\n",
      "20       0.076769            0.382154                 0.158923\n",
      "21       0.283654            0.244231                 0.227885\n",
      "22       0.006488            0.429008                 0.135496\n",
      "23       0.248217            0.267855                 0.216072\n",
      "24       0.083734            0.377510                 0.161245\n",
      "25       0.037875            0.408083                 0.145958\n",
      "26       0.017068            0.421954                 0.139023\n",
      "27       0.212899            0.291401                 0.204300\n",
      "28       0.223369            0.284421                 0.207790\n",
      "29       0.065030            0.389980                 0.155010\n",
      "..            ...                 ...                      ...\n",
      "70       0.249025            0.267316                 0.216342\n",
      "71       0.018977            0.420682                 0.139659\n",
      "72       0.079195            0.380537                 0.159732\n",
      "73       0.172517            0.318322                 0.190839\n",
      "74       0.014151            0.423899                 0.138050\n",
      "75       0.227333            0.281778                 0.209111\n",
      "76       0.230983            0.279345                 0.210328\n",
      "77       0.208653            0.294231                 0.202884\n",
      "78       0.086956            0.375363                 0.162319\n",
      "79       0.136831            0.342113                 0.178944\n",
      "80       0.203898            0.297401                 0.201299\n",
      "81       0.025497            0.416335                 0.141832\n",
      "82       0.137747            0.341502                 0.179249\n",
      "83       0.061415            0.392390                 0.153805\n",
      "84       0.264021            0.257319                 0.221340\n",
      "85       0.213551            0.290966                 0.204517\n",
      "86       0.293458            0.237695                 0.231153\n",
      "87       0.029739            0.413507                 0.143246\n",
      "88       0.013759            0.424161                 0.137920\n",
      "89       0.012901            0.424733                 0.137634\n",
      "90       0.299365            0.233757                 0.233122\n",
      "91       0.002334            0.431777                 0.134111\n",
      "92       0.207190            0.295207                 0.202397\n",
      "93       0.070332            0.386445                 0.156777\n",
      "94       0.265064            0.256624                 0.221688\n",
      "95       0.279333            0.247112                 0.226444\n",
      "96       0.167568            0.321621                 0.189189\n",
      "97       0.278363            0.247758                 0.226121\n",
      "98       0.058601            0.394266                 0.152867\n",
      "99       0.098454            0.367697                 0.166151\n",
      "\n",
      "[100 rows x 3 columns]\n"
     ]
    }
   ],
   "source": [
    "c0 = 0.3\n",
    "c_after_merger = np.random.uniform(0,c0,size = 100)\n",
    "initial_guess=[0,0]\n",
    "q1_after_merger = [optimize.fsolve(lambda q: fixed_point_two_firms(q,[c0,c]), initial_guess)[0] for c in c_after_merger]\n",
    "q2_after_merger = [optimize.fsolve(lambda q: fixed_point_two_firms(q,[c0,c]), initial_guess)[1] for c in c_after_merger]\n",
    "c_merged_firm = c_after_merger\n",
    "output_non_merging_firm = q1_after_merger\n",
    "output_merged_firm = q2_after_merger\n",
    "data = {'c_merged_firm':c_merged_firm,'output_non_merging_firm':output_non_merging_firm,'output_merged_firm':output_merged_firm}\n",
    "df_after_merger = pd.DataFrame(data)\n",
    "print(df_after_merger)"
   ]
  },
  {
   "cell_type": "markdown",
   "metadata": {
    "deletable": false,
    "editable": false,
    "nbgrader": {
     "checksum": "a5bf4171960844da9c57375d83b6eedf",
     "grade": false,
     "grade_id": "cell-7ad058be42e19df8",
     "locked": true,
     "schema_version": 1,
     "solution": false
    }
   },
   "source": [
    "#### d) [0.5 points] Add three columns to the dataframe with resp. total equilibrium output on the market, `Q`, equilibrium price, `P` and the Herfindahl index, `H`."
   ]
  },
  {
   "cell_type": "markdown",
   "metadata": {},
   "source": [
    "We used the list from the previous question and added the three values, Q, P & H. To add these we had to transform them to arrays, so that we were able to calculate with these values. "
   ]
  },
  {
   "cell_type": "code",
   "execution_count": 132,
   "metadata": {
    "deletable": false,
    "nbgrader": {
     "checksum": "ab6179623b39a6ae634abea45326e4ab",
     "grade": true,
     "grade_id": "cell-9c39b11747803ca1",
     "locked": false,
     "points": 0.5,
     "schema_version": 1,
     "solution": true
    }
   },
   "outputs": [
    {
     "name": "stdout",
     "output_type": "stream",
     "text": [
      "           H         P         Q  c_merged_firm  output_merged_firm  \\\n",
      "0   0.520613  0.499456  0.500544       0.198369            0.301087   \n",
      "1   0.535327  0.487966  0.512034       0.163897            0.324069   \n",
      "2   0.562509  0.470984  0.529016       0.112951            0.358033   \n",
      "3   0.504629  0.517870  0.482130       0.253610            0.264260   \n",
      "4   0.549622  0.478579  0.521421       0.135736            0.342843   \n",
      "5   0.534195  0.488768  0.511232       0.166305            0.322463   \n",
      "6   0.501085  0.525974  0.474026       0.277921            0.248053   \n",
      "7   0.563608  0.470364  0.529636       0.111092            0.359272   \n",
      "8   0.500378  0.529016  0.470984       0.287048            0.241968   \n",
      "9   0.500583  0.527959  0.472041       0.283876            0.244083   \n",
      "10  0.535041  0.488167  0.511833       0.164502            0.323666   \n",
      "11  0.618704  0.442843  0.557157       0.028528            0.414315   \n",
      "12  0.515782  0.503958  0.496042       0.211873            0.292085   \n",
      "13  0.551737  0.477285  0.522715       0.131856            0.345429   \n",
      "14  0.592730  0.455115  0.544885       0.065344            0.389770   \n",
      "15  0.626189  0.439468  0.560532       0.018404            0.421064   \n",
      "16  0.632514  0.436663  0.563337       0.009989            0.426674   \n",
      "17  0.590736  0.456100  0.543900       0.068301            0.387799   \n",
      "18  0.572863  0.465294  0.534706       0.095881            0.369412   \n",
      "19  0.608587  0.447510  0.552490       0.042529            0.404981   \n",
      "20  0.585106  0.458923  0.541077       0.076769            0.382154   \n",
      "21  0.500599  0.527885  0.472115       0.283654            0.244231   \n",
      "22  0.635172  0.435496  0.564504       0.006488            0.429008   \n",
      "23  0.505725  0.516072  0.483928       0.248217            0.267855   \n",
      "24  0.580568  0.461245  0.538755       0.083734            0.377510   \n",
      "25  0.611919  0.445958  0.554042       0.037875            0.408083   \n",
      "26  0.627187  0.439023  0.560977       0.017068            0.421954   \n",
      "27  0.515438  0.504300  0.495700       0.212899            0.291401   \n",
      "28  0.512119  0.507790  0.492210       0.223369            0.284421   \n",
      "29  0.592943  0.455010  0.544990       0.065030            0.389980   \n",
      "..       ...       ...       ...            ...                 ...   \n",
      "70  0.505554  0.516342  0.483658       0.249025            0.267316   \n",
      "71  0.625762  0.439659  0.560341       0.018977            0.420682   \n",
      "72  0.583516  0.459732  0.540268       0.079195            0.380537   \n",
      "73  0.531345  0.490839  0.509161       0.172517            0.318322   \n",
      "74  0.629374  0.438050  0.561950       0.014151            0.423899   \n",
      "75  0.510957  0.509111  0.490889       0.227333            0.281778   \n",
      "76  0.509933  0.510328  0.489672       0.230983            0.279345   \n",
      "77  0.516883  0.502884  0.497116       0.208653            0.294231   \n",
      "78  0.578498  0.462319  0.537681       0.086956            0.375363   \n",
      "79  0.549032  0.478944  0.521056       0.136831            0.342113   \n",
      "80  0.518568  0.501299  0.498701       0.203898            0.297401   \n",
      "81  0.620930  0.441832  0.558168       0.025497            0.416335   \n",
      "82  0.548539  0.479249  0.520751       0.137747            0.341502   \n",
      "83  0.595403  0.453805  0.546195       0.061415            0.392390   \n",
      "84  0.502825  0.521340  0.478660       0.264021            0.257319   \n",
      "85  0.515221  0.504517  0.495483       0.213551            0.290966   \n",
      "86  0.500097  0.531153  0.468847       0.293458            0.237695   \n",
      "87  0.617817  0.443246  0.556754       0.029739            0.413507   \n",
      "88  0.629670  0.437920  0.562080       0.013759            0.424161   \n",
      "89  0.630315  0.437634  0.562366       0.012901            0.424733   \n",
      "90  0.500001  0.533122  0.466878       0.299365            0.233757   \n",
      "91  0.638346  0.434111  0.565889       0.002334            0.431777   \n",
      "92  0.517394  0.502397  0.497603       0.207190            0.295207   \n",
      "93  0.589375  0.456777  0.543223       0.070332            0.386445   \n",
      "94  0.502667  0.521688  0.478312       0.265064            0.256624   \n",
      "95  0.500952  0.526444  0.473556       0.279333            0.247112   \n",
      "96  0.533608  0.489189  0.510811       0.167568            0.321621   \n",
      "97  0.501042  0.526121  0.473879       0.278363            0.247758   \n",
      "98  0.597332  0.452867  0.547133       0.058601            0.394266   \n",
      "99  0.571266  0.466151  0.533849       0.098454            0.367697   \n",
      "\n",
      "    output_non_merging_firm  \n",
      "0                  0.199456  \n",
      "1                  0.187966  \n",
      "2                  0.170984  \n",
      "3                  0.217870  \n",
      "4                  0.178579  \n",
      "5                  0.188768  \n",
      "6                  0.225974  \n",
      "7                  0.170364  \n",
      "8                  0.229016  \n",
      "9                  0.227959  \n",
      "10                 0.188167  \n",
      "11                 0.142843  \n",
      "12                 0.203958  \n",
      "13                 0.177285  \n",
      "14                 0.155115  \n",
      "15                 0.139468  \n",
      "16                 0.136663  \n",
      "17                 0.156100  \n",
      "18                 0.165294  \n",
      "19                 0.147510  \n",
      "20                 0.158923  \n",
      "21                 0.227885  \n",
      "22                 0.135496  \n",
      "23                 0.216072  \n",
      "24                 0.161245  \n",
      "25                 0.145958  \n",
      "26                 0.139023  \n",
      "27                 0.204300  \n",
      "28                 0.207790  \n",
      "29                 0.155010  \n",
      "..                      ...  \n",
      "70                 0.216342  \n",
      "71                 0.139659  \n",
      "72                 0.159732  \n",
      "73                 0.190839  \n",
      "74                 0.138050  \n",
      "75                 0.209111  \n",
      "76                 0.210328  \n",
      "77                 0.202884  \n",
      "78                 0.162319  \n",
      "79                 0.178944  \n",
      "80                 0.201299  \n",
      "81                 0.141832  \n",
      "82                 0.179249  \n",
      "83                 0.153805  \n",
      "84                 0.221340  \n",
      "85                 0.204517  \n",
      "86                 0.231153  \n",
      "87                 0.143246  \n",
      "88                 0.137920  \n",
      "89                 0.137634  \n",
      "90                 0.233122  \n",
      "91                 0.134111  \n",
      "92                 0.202397  \n",
      "93                 0.156777  \n",
      "94                 0.221688  \n",
      "95                 0.226444  \n",
      "96                 0.189189  \n",
      "97                 0.226121  \n",
      "98                 0.152867  \n",
      "99                 0.166151  \n",
      "\n",
      "[100 rows x 6 columns]\n"
     ]
    }
   ],
   "source": [
    "qmf= np.array(output_merged_firm)\n",
    "qnmf= np.array(output_non_merging_firm)\n",
    "Q = qmf+qnmf\n",
    "Qnp= np.array(Q)\n",
    "H = ((qmf/Qnp)**2)+((qnmf/Qnp)**2)\n",
    "P = (100*[1]) - Qnp\n",
    "data = {'c_merged_firm':c_merged_firm,'output_non_merging_firm':output_non_merging_firm,'output_merged_firm':output_merged_firm, 'Q':Q, 'H':H, 'P':P}\n",
    "df_after_merger = pd.DataFrame(data)\n",
    "print(df_after_merger)\n",
    "\n"
   ]
  },
  {
   "cell_type": "markdown",
   "metadata": {},
   "source": [
    "#### e) [0.5 points] Make a histogram of the equilibrium price `P` after the merger. Also indicate in the histogram the equilibrium price before the merger `P0`. Label the horizontal axis with $P$.\n",
    "\n",
    "[hint: you may want to use matplotlib's `hist`, `vlines` and `legend` to make this graph (e.g use google to find these functions); but feel free to use something else]"
   ]
  },
  {
   "cell_type": "markdown",
   "metadata": {},
   "source": [
    "We used the values form the list above to plot a histogram with a values of p. Then we added a vertical line for p0."
   ]
  },
  {
   "cell_type": "code",
   "execution_count": 133,
   "metadata": {
    "deletable": false,
    "nbgrader": {
     "checksum": "b103cd98545261b20f937f4b9db67f68",
     "grade": true,
     "grade_id": "cell-f9193bf8e71f1a9a",
     "locked": false,
     "points": 0.5,
     "schema_version": 1,
     "solution": true
    }
   },
   "outputs": [
    {
     "data": {
      "text/plain": [
       "Text(0,0.5,'Number of observations')"
      ]
     },
     "execution_count": 133,
     "metadata": {},
     "output_type": "execute_result"
    },
    {
     "data": {
      "image/png": "[encoded data removed]",
      "text/plain": [
       "<matplotlib.figure.Figure at 0xea628e5d30>"
      ]
     },
     "metadata": {},
     "output_type": "display_data"
    }
   ],
   "source": [
    "plt.hist(P, label = 'P',edgecolor = 'black')\n",
    "plt.vlines(p(equilibrium_output),ymin=0,ymax=20, label = 'Equilibrium price before merger')\n",
    "plt.legend(bbox_to_anchor=(1.65,1))\n",
    "plt.xlabel('Price')\n",
    "plt.ylabel('Number of observations')"
   ]
  },
  {
   "cell_type": "markdown",
   "metadata": {},
   "source": [
    "#### f) [0.5 points] Explain why sometimes the equilibrium price after the merger exceeds the equilibrium price before the merger and sometimes it is lower than the pre-merger price. [hint: there is a trade off between two effects, depending on which effect dominates, equilibrium price increases or decreases after the merger]"
   ]
  },
  {
   "cell_type": "markdown",
   "metadata": {
    "deletable": false,
    "nbgrader": {
     "checksum": "dd9fc721b7cf7f66587e93cbfb758034",
     "grade": true,
     "grade_id": "cell-7a1f367cd2854156",
     "locked": false,
     "points": 0.5,
     "schema_version": 1,
     "solution": true
    }
   },
   "source": [
    "The trade off is between the decrease in marginal costs and the increase in quantity produced per firm. When the decrease in marginal costs is smaller than the increase in quantity produced, the price will end up being higher than the price before merger, and vice versa."
   ]
  },
  {
   "cell_type": "markdown",
   "metadata": {
    "deletable": false,
    "editable": false,
    "nbgrader": {
     "checksum": "e1e41dbf14c605bf91cdc78f70eada99",
     "grade": false,
     "grade_id": "cell-06ed6044f8938a45",
     "locked": true,
     "schema_version": 1,
     "solution": false
    }
   },
   "source": [
    "#### g) [0.5 points] Make a graph with the Herfindahl index on the horizontal axis and the equilibrium price on the vertical axis. This is straightforward for $(H,P)$ after the merger as both values are in the dataframe. Add in another color, the pre-merger combination `(H0,P0)` that we calculated above."
   ]
  },
  {
   "cell_type": "markdown",
   "metadata": {},
   "source": [
    "We created a scatterplot with the values of the Herfindahl Index and the Price. We also added the original equilibrium point for a situation with 2 firms. "
   ]
  },
  {
   "cell_type": "code",
   "execution_count": 134,
   "metadata": {
    "deletable": false,
    "nbgrader": {
     "checksum": "51cfaacbaf533e85d9794bc74712afd5",
     "grade": true,
     "grade_id": "cell-d647464d04870b73",
     "locked": false,
     "points": 0.5,
     "schema_version": 1,
     "solution": true
    }
   },
   "outputs": [
    {
     "data": {
      "text/plain": [
       "<matplotlib.legend.Legend at 0xea629a92b0>"
      ]
     },
     "execution_count": 134,
     "metadata": {},
     "output_type": "execute_result"
    },
    {
     "data": {
      "image/png": "[encoded data removed]",
      "text/plain": [
       "<matplotlib.figure.Figure at 0xea628e50f0>"
      ]
     },
     "metadata": {},
     "output_type": "display_data"
    }
   ],
   "source": [
    "plt.scatter(H,P, label= 'After Merger')\n",
    "plt.scatter(Herfindahl_index, p(equilibrium_output), label = 'Before Merger')\n",
    "plt.xlabel('Herfindahl Index')\n",
    "plt.ylabel('Price')\n",
    "plt.legend(bbox_to_anchor=(1.4,1))"
   ]
  },
  {
   "cell_type": "markdown",
   "metadata": {
    "deletable": false,
    "editable": false,
    "nbgrader": {
     "checksum": "11b6609131b1c25886f2c6cafe0f7a59",
     "grade": false,
     "grade_id": "cell-5c5e5776a7c135a2",
     "locked": true,
     "schema_version": 1,
     "solution": false
    }
   },
   "source": [
    "#### h) [0.5 points] Use the graph under g) to discuss the relation between the Herfindahl index and the equilibrium price. To illustrate, some people think that lower values of the Herfindahl index are associated with more competitive outcome. Would you agree with this?"
   ]
  },
  {
   "cell_type": "markdown",
   "metadata": {
    "collapsed": true,
    "deletable": false,
    "nbgrader": {
     "checksum": "3d396887dde3b00420c623b9f4ea8ed2",
     "grade": true,
     "grade_id": "cell-cbd89d483b23a953",
     "locked": false,
     "points": 0.5,
     "schema_version": 1,
     "solution": true
    }
   },
   "source": [
    "The more firms, the lower the Herfindahl index. From this we could conclude that a lower Herfindahl index means more competitiveness. However when the amount of firms is fixed, a lower Herfindahl index means a higher price, which would suggest less competitiveness."
   ]
  },
  {
   "cell_type": "markdown",
   "metadata": {},
   "source": [
    "## Github\n",
    "\n",
    "After you have finished, we need to upload this notebook on github. Make sure that you upload the file on the github page of each collaborator."
   ]
  },
  {
   "cell_type": "markdown",
   "metadata": {},
   "source": [
    "Instructions on how to upload this on github can be found [on this page](http://janboone.github.io/programming-for-economists/github.html). This page has two screencasts: one shows how to drag the notebook onto your github page, the other shows how you can use the command line to upload your notebook.\n"
   ]
  },
  {
   "cell_type": "markdown",
   "metadata": {},
   "source": [
    "Remember to update the README file in your repository to include a link to this notebook on github.\n",
    "\n",
    "\n",
    "The links that you should post start with “github.com/” and are NOT of the form “http://localhost”. Make sure you test your links after uploading."
   ]
  },
  {
   "cell_type": "code",
   "execution_count": null,
   "metadata": {
    "collapsed": true
   },
   "outputs": [],
   "source": []
  }
 ],
 "metadata": {
  "anaconda-cloud": {},
  "kernelspec": {
   "display_name": "Python 3",
   "language": "python",
   "name": "python3"
  },
  "language_info": {
   "codemirror_mode": {
    "name": "ipython",
    "version": 3
   },
   "file_extension": ".py",
   "mimetype": "text/x-python",
   "name": "python",
   "nbconvert_exporter": "python",
   "pygments_lexer": "ipython3",
   "version": "3.6.4"
  }
 },
 "nbformat": 4,
 "nbformat_minor": 1
}
